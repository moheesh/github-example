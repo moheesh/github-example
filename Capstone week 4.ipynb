{
    "cells": [
        {
            "metadata": {
                "collapsed": true
            },
            "cell_type": "markdown",
            "source": "# CAPSTONE PROJECT - THE BATTLE OF NEIGHBORHOODS"
        },
        {
            "metadata": {},
            "cell_type": "markdown",
            "source": "## INTRODUCTION"
        },
        {
            "metadata": {},
            "cell_type": "markdown",
            "source": "Studying abroad is one of the most exciting parts of a student\u2019s life. However, students from India do face various challenges. Despite it being the perfect opportunity to travel, meet new friends, learn a new language, amongst many other things, for some, moving from India to another country isn\u2019t an easy transition. "
        },
        {
            "metadata": {},
            "cell_type": "markdown",
            "source": "## BACKGROUND"
        },
        {
            "metadata": {},
            "cell_type": "markdown",
            "source": "### BUSINESS PROBLEM"
        },
        {
            "metadata": {},
            "cell_type": "markdown",
            "source": "Transition to Toronto for Higher Studies is one of the most common challenges of studying abroad is the language barrier. Perhaps you spent the last five years studying the language, but once you arrive to the country, it seems completely foreign to you. Locals are using slang you\u2019re unfamiliar with, and several words can be used to describe one thing. Trying to understand a different currency is another common challenge students face. You want to ensure you are familiar with the conversion this way you don\u2019t end up spending more money than you should. Many countries include taxes in their prices, however, international students should be aware in North American countries, taxes are not included and so they must be calculated in addition to the price presented on the product. Every country has different cultural standards. In addition to getting familiar with languages and currencies, you will have to adjust to the local culture. It\u2019s easy to begin feeling homesick when everything around you is so unfamiliar. You will miss the things you find comfort in, such as the couch in your living room and your annoying yet loving sibling. After overcoming all of these challenges, you will realize how much you truly love the country you\u2019re in. When it\u2019s time to leave, you will miss the locals, the food, and many of the small things like the cafe down the street. You will miss the freedom, the adventures, the challenges\u2026 leaving will be a challenge on its own."
        },
        {
            "metadata": {},
            "cell_type": "markdown",
            "source": "### SOLUTION"
        },
        {
            "metadata": {},
            "cell_type": "markdown",
            "source": "This project will give the best places for the students to shift and stay in Toronto for  their higher studies. They will be surrounded by the other similar Indian peoples will make their stay much more easier and comfortable. "
        },
        {
            "metadata": {},
            "cell_type": "markdown",
            "source": "## DATA SELECTION"
        },
        {
            "metadata": {},
            "cell_type": "markdown",
            "source": "For this course we need the following data"
        },
        {
            "metadata": {},
            "cell_type": "markdown",
            "source": "Toronto city data about their neighborhood, postal code, Borough along with their lattitude and longitude."
        },
        {
            "metadata": {},
            "cell_type": "markdown",
            "source": "Geospace data from the net to visualize the data as maps and markers."
        },
        {
            "metadata": {},
            "cell_type": "markdown",
            "source": "Other indian types restaurants, caffe shops, neighborhood and other datas"
        },
        {
            "metadata": {},
            "cell_type": "markdown",
            "source": "### EXTRACTING THE DATA"
        },
        {
            "metadata": {},
            "cell_type": "markdown",
            "source": "The data are extracted for the Toronto neighborhood from the wikipedia"
        },
        {
            "metadata": {},
            "cell_type": "markdown",
            "source": "Using the geocoder package to get the lattitude and longitude of the area and use it to construct the maps"
        },
        {
            "metadata": {},
            "cell_type": "markdown",
            "source": "At last Foursquare API to get the data about the datas and other things related to Indian Community"
        },
        {
            "metadata": {},
            "cell_type": "code",
            "source": "",
            "execution_count": null,
            "outputs": []
        }
    ],
    "metadata": {
        "kernelspec": {
            "name": "python3",
            "display_name": "Python 3.6",
            "language": "python"
        },
        "language_info": {
            "name": "python",
            "version": "3.6.9",
            "mimetype": "text/x-python",
            "codemirror_mode": {
                "name": "ipython",
                "version": 3
            },
            "pygments_lexer": "ipython3",
            "nbconvert_exporter": "python",
            "file_extension": ".py"
        }
    },
    "nbformat": 4,
    "nbformat_minor": 1
}